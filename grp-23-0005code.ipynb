{
 "cells": [
  {
   "cell_type": "markdown",
   "metadata": {},
   "source": [
    "# COMP0005 - GROUP COURSEWORK\n",
    "# Experimental Evaluation of Search Data Structures and Algorithms"
   ]
  },
  {
   "cell_type": "markdown",
   "metadata": {},
   "source": [
    "The cell below defines **AbstractSearchInterface**, an interface to support basic insert/search operations; you will need to implement this three times, to realise your three search data structures of choice among: (1) *2-3 Tree*, (2) *AVL Tree*, (3) *LLRB BST*; (4) *B-Tree*; and (5) *Scapegoat Tree*. <br><br>**Do NOT modify the next cell** - use the dedicated cells further below for your implementation instead. <br>"
   ]
  },
  {
   "cell_type": "code",
   "execution_count": 11,
   "metadata": {},
   "outputs": [],
   "source": [
    "# DO NOT MODIFY THIS CELL\n",
    "\n",
    "from abc import ABC, abstractmethod  \n",
    "\n",
    "class AbstractSearchInterface(ABC):\n",
    "    '''\n",
    "    Abstract class to support search/insert operations (plus underlying data structure)\n",
    "    \n",
    "    '''\n",
    "        \n",
    "    @abstractmethod\n",
    "    def insertElement(self, element):     \n",
    "        '''\n",
    "        Insert an element in a search tree\n",
    "            Parameters:\n",
    "                    element: string to be inserted in the search tree (string)\n",
    "\n",
    "            Returns:\n",
    "                    \"True\" after successful insertion, \"False\" if element is already present (bool)\n",
    "        '''\n",
    "        \n",
    "        pass \n",
    "    \n",
    "\n",
    "    @abstractmethod\n",
    "    def searchElement(self, element):\n",
    "        '''\n",
    "        Search for an element in a search tree\n",
    "            Parameters:\n",
    "                    element: string to be searched in the search tree (string)\n",
    "\n",
    "            Returns:\n",
    "                    \"True\" if element is found, \"False\" otherwise (bool)\n",
    "        '''\n",
    "\n",
    "        pass"
   ]
  },
  {
   "cell_type": "markdown",
   "metadata": {},
   "source": [
    "Use the cell below to define any auxiliary data structure and python function you may need. Leave the implementation of the main API to the next code cells instead."
   ]
  },
  {
   "cell_type": "code",
   "execution_count": null,
   "metadata": {},
   "outputs": [],
   "source": [
    "# ADD AUXILIARY DATA STRUCTURE DEFINITIONS AND HELPER CODE HERE\n",
    "\n"
   ]
  },
  {
   "cell_type": "markdown",
   "metadata": {},
   "source": [
    "Use the cell below to implement the requested API by means of **2-3 Tree** (if among your chosen data structure)."
   ]
  },
  {
   "cell_type": "code",
   "execution_count": 13,
   "metadata": {},
   "outputs": [],
   "source": [
    "class TwoThreeTree(AbstractSearchInterface):\n",
    "        \n",
    "    def insertElement(self, element):\n",
    "        inserted = False\n",
    "        # ADD YOUR CODE HERE\n",
    "      \n",
    "        \n",
    "        return inserted\n",
    "    \n",
    "    \n",
    "\n",
    "    def searchElement(self, element):     \n",
    "        found = False\n",
    "        # ADD YOUR CODE HERE\n",
    "\n",
    "        \n",
    "        return found    "
   ]
  },
  {
   "cell_type": "markdown",
   "metadata": {},
   "source": [
    "Use the cell below to implement the requested API by means of **AVL Tree** (if among your chosen data structure)."
   ]
  },
  {
   "cell_type": "code",
   "execution_count": 14,
   "metadata": {},
   "outputs": [],
   "source": [
    "class AVLTree(AbstractSearchInterface):\n",
    "        \n",
    "    def insertElement(self, element):\n",
    "        inserted = False\n",
    "        # ADD YOUR CODE HERE\n",
    "      \n",
    "        \n",
    "        return inserted\n",
    "    \n",
    "    \n",
    "\n",
    "    def searchElement(self, element):     \n",
    "        found = False\n",
    "        # ADD YOUR CODE HERE\n",
    "\n",
    "        \n",
    "        return found  "
   ]
  },
  {
   "cell_type": "markdown",
   "metadata": {},
   "source": [
    "Use the cell below to implement the requested API by means of **LLRB BST** (if among your chosen data structure)."
   ]
  },
  {
   "cell_type": "code",
   "execution_count": 15,
   "metadata": {},
   "outputs": [],
   "source": [
    "class LLRBBST(AbstractSearchInterface):\n",
    "        \n",
    "    def insertElement(self, element):\n",
    "        inserted = False\n",
    "        # ADD YOUR CODE HERE\n",
    "      \n",
    "        \n",
    "        return inserted\n",
    "    \n",
    "    \n",
    "\n",
    "    def searchElement(self, element):     \n",
    "        found = False\n",
    "        # ADD YOUR CODE HERE\n",
    "\n",
    "        \n",
    "        return found  "
   ]
  },
  {
   "cell_type": "markdown",
   "metadata": {},
   "source": [
    "Use the cell below to implement the requested API by means of **B-Tree** (if among your chosen data structure)."
   ]
  },
  {
   "cell_type": "code",
   "execution_count": 16,
   "metadata": {},
   "outputs": [],
   "source": [
    "class BTree(AbstractSearchInterface):\n",
    "        \n",
    "    def insertElement(self, element):\n",
    "        inserted = False\n",
    "        # ADD YOUR CODE HERE\n",
    "      \n",
    "        \n",
    "        return inserted\n",
    "    \n",
    "    \n",
    "\n",
    "    def searchElement(self, element):     \n",
    "        found = False\n",
    "        # ADD YOUR CODE HERE\n",
    "\n",
    "        \n",
    "        return found"
   ]
  },
  {
   "cell_type": "markdown",
   "metadata": {},
   "source": [
    "Use the cell below to implement the requested API by means of **Scapegoat Tree** (if among your chosen data structure)."
   ]
  },
  {
   "cell_type": "code",
   "execution_count": 17,
   "metadata": {},
   "outputs": [],
   "source": [
    "class ScapegoatTree(AbstractSearchInterface):\n",
    "        \n",
    "    def insertElement(self, element):\n",
    "        inserted = False\n",
    "        # ADD YOUR CODE HERE\n",
    "      \n",
    "        \n",
    "        return inserted\n",
    "    \n",
    "    \n",
    "\n",
    "    def searchElement(self, element):     \n",
    "        found = False\n",
    "        # ADD YOUR CODE HERE\n",
    "\n",
    "        \n",
    "        return found "
   ]
  },
  {
   "cell_type": "markdown",
   "metadata": {},
   "source": [
    "Use the cell below to implement the **synthetic data generator** needed by your experimental framework (be mindful of code readability and reusability)."
   ]
  },
  {
   "cell_type": "code",
   "execution_count": 18,
   "metadata": {},
   "outputs": [],
   "source": [
    "import string\n",
    "import random\n",
    "\n",
    "class TestDataGenerator():\n",
    "    '''\n",
    "    A class to represent a synthetic data generator.\n",
    "\n",
    "    ...\n",
    "\n",
    "    Attributes\n",
    "    ----------\n",
    "    \n",
    "    [to be defined as part of the coursework]\n",
    "\n",
    "    Methods\n",
    "    -------\n",
    "    \n",
    "    [to be defined as part of the coursework]\n",
    "\n",
    "    '''\n",
    "    \n",
    "    #ADD YOUR CODE HERE\n",
    "    \n",
    "    def __init__():\n",
    "        pass\n",
    "    "
   ]
  },
  {
   "cell_type": "markdown",
   "metadata": {},
   "source": [
    "Use the cell below to implement the requested **experimental framework** (be mindful of code readability and reusability)."
   ]
  },
  {
   "cell_type": "code",
   "execution_count": null,
   "metadata": {},
   "outputs": [],
   "source": [
    "import timeit\n",
    "import matplotlib\n",
    "\n",
    "class ExperimentalFramework():\n",
    "    '''\n",
    "    A class to represent an experimental framework.\n",
    "\n",
    "    ...\n",
    "\n",
    "    Attributes\n",
    "    ----------\n",
    "    \n",
    "    [to be defined as part of the coursework]\n",
    "\n",
    "    Methods\n",
    "    -------\n",
    "    \n",
    "    [to be defined as part of the coursework]\n",
    "\n",
    "    '''\n",
    "            \n",
    "    #ADD YOUR CODE HERE\n",
    "    \n",
    "    def __init__(self):\n",
    "        pass\n",
    "        \n",
    "    def benchmark_insertion(self, data_structure, dataset: list[str]) -> float:\n",
    "        start_time = timeit.default_timer()\n",
    "        for element in dataset:\n",
    "            data_structure.insertElement(element)\n",
    "        end_time = timeit.default_timer()\n",
    "        return end_time - start_time\n",
    "\n",
    "    def benchmark_search(self, data_structure, dataset: list[str]) -> tuple[float, float]:\n",
    "        start_time = timeit.default_timer()\n",
    "        for element in dataset:\n",
    "            data_structure.searchElement(element)\n",
    "        end_time = timeit.default_timer()\n",
    "        existing_search_time = end_time - start_time\n",
    "        \n",
    "        # Search for non-existing elements\n",
    "        non_existing_elements = [f\"non_existing_{i}\" for i in range(len(dataset))]\n",
    "        start_time = timeit.default_timer()\n",
    "        for element in non_existing_elements:\n",
    "            data_structure.searchElement(element)\n",
    "        end_time = timeit.default_timer()\n",
    "        non_existing_search_time = end_time - start_time\n",
    "        return existing_search_time, non_existing_search_time\n",
    "    "
   ]
  },
  {
   "cell_type": "markdown",
   "metadata": {},
   "source": [
    "Use the cell below to illustrate the python code you used to **fully evaluate** your three chosen search data structures and algortihms. The code below should illustrate, for example, how you made used of the **TestDataGenerator** class to generate test data of various size and properties; how you instatiated the **ExperimentalFramework** class to  evaluate each data structure using such data, collect information about their execution time, plot results, etc. Any results you illustrate in the companion PDF report should have been generated using the code below."
   ]
  },
  {
   "cell_type": "code",
   "execution_count": 20,
   "metadata": {},
   "outputs": [],
   "source": [
    "# ADD YOUR TEST CODE HERE \n",
    "\n",
    "\n",
    "\n"
   ]
  }
 ],
 "metadata": {
  "kernelspec": {
   "display_name": "Python 3",
   "language": "python",
   "name": "python3"
  },
  "language_info": {
   "codemirror_mode": {
    "name": "ipython",
    "version": 3
   },
   "file_extension": ".py",
   "mimetype": "text/x-python",
   "name": "python",
   "nbconvert_exporter": "python",
   "pygments_lexer": "ipython3",
   "version": "3.11.11"
  }
 },
 "nbformat": 4,
 "nbformat_minor": 4
}
